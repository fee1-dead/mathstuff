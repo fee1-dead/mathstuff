{
 "cells": [
  {
   "cell_type": "code",
   "execution_count": 9,
   "id": "46f61c60",
   "metadata": {},
   "outputs": [],
   "source": [
    ":dep mathstuff = { path = \".\" }"
   ]
  },
  {
   "cell_type": "code",
   "execution_count": null,
   "id": "7fbd5b0b",
   "metadata": {},
   "outputs": [],
   "source": []
  },
  {
   "cell_type": "code",
   "execution_count": 13,
   "id": "8fa14edb",
   "metadata": {},
   "outputs": [
    {
     "name": "stderr",
     "output_type": "stream",
     "text": [
      "[/home/beef/develop/mathstuff/src/typst_display.rs:36] &fonts = [\n",
      "    Font(New Computer Modern Math),\n",
      "]\n"
     ]
    },
    {
     "data": {
      "image/png": "[encoded data removed]"
     },
     "execution_count": 13,
     "metadata": {},
     "output_type": "execute_result"
    }
   ],
   "source": [
    "mathstuff::parse(\"1 + 1\").unwrap()"
   ]
  },
  {
   "cell_type": "code",
   "execution_count": 14,
   "id": "9fa40e80",
   "metadata": {},
   "outputs": [
    {
     "name": "stderr",
     "output_type": "stream",
     "text": [
      "[/home/beef/develop/mathstuff/src/typst_display.rs:36] &fonts = [\n",
      "    Font(New Computer Modern Math),\n",
      "]\n"
     ]
    },
    {
     "data": {
      "image/png": "[encoded data removed]"
     },
     "execution_count": 14,
     "metadata": {},
     "output_type": "execute_result"
    }
   ],
   "source": [
    "mathstuff::parse(\"x^2 + 3 * x^2\").unwrap().simplify().unwrap()"
   ]
  }
 ],
 "metadata": {
  "kernelspec": {
   "display_name": "Rust",
   "language": "rust",
   "name": "rust"
  },
  "language_info": {
   "codemirror_mode": "rust",
   "file_extension": ".rs",
   "mimetype": "text/rust",
   "name": "Rust",
   "pygment_lexer": "rust",
   "version": ""
  }
 },
 "nbformat": 4,
 "nbformat_minor": 5
}
